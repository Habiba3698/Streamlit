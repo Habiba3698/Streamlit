{
 "cells": [
  {
   "cell_type": "code",
   "execution_count": 1,
   "metadata": {},
   "outputs": [
    {
     "name": "stdout",
     "output_type": "stream",
     "text": [
      "Writing fapp.py\n"
     ]
    }
   ],
   "source": [
    "%%writefile fapp.py \n",
    "\n",
    "import streamlit as st\n",
    "import plotly.express as px\n",
    "\n",
    "\n",
    "st.set_page_config(\n",
    "    layout=\"wide\",\n",
    "    page_title=\"Simple Dashboard\"\n",
    ")\n",
    "df= px.data.tips()\n",
    "\n",
    "# side bar\n",
    "x= st.sidebar.checkbox('Show Data', False, key=1)\n",
    "day= st.sidebar.selectbox('Select day', df['day'].unique())\n",
    "time= st.sidebar.selectbox('Select Meal Time', df['time'].unique())\n",
    "\n",
    "size= st.sidebar.radio(\"Select how many Dishes\", sorted(df['size'].unique()),5, horizontal=True)\n",
    "\n",
    "if x:\n",
    "    st.header('Dataset Sample')\n",
    "    st.dataframe(df.head(8))\n",
    "\n",
    "\n",
    "# page content \n",
    "col1, col2, col3 = st.columns([5,5,5])\n",
    "\n",
    "with col1:\n",
    "    new_df1 = df[df['day'] == day]\n",
    "    fig = px.histogram(new_df1, x = 'total_bill', color = 'sex',\n",
    "                       title=f'totalt bill for {day}day'.title(), width = 700)\n",
    "    st.plotly_chart(fig,use_container_width=True)\n",
    "    new_df1 = df[df['size'] == size]\n",
    "    fig = px.pie(new_df1, names = 'time', color = 'sex',\n",
    "                 title=f'count of each meal time according to {size} dishes'.title()).update_traces(textinfo='value')\n",
    "    st.plotly_chart(fig,use_container_width=True)\n",
    "\n",
    "\n",
    "with col3:\n",
    "    new_df2= df[df['time']== time]\n",
    "    fig = px.scatter(new_df2, x='total_bill', y= 'tip',template=\"presentation\",\n",
    "                     size_max=20, color='sex', title=f'correlation between total bill and tip on {time}')\n",
    "    st.plotly_chart(fig,use_container_width=True)\n",
    "    fig= px.sunburst(df, path=['day', 'time'], color= 'tip', \n",
    "                    title= 'counting over day, time and size over tips'.title()).update_traces(textinfo='value')\n",
    "    st.plotly_chart(fig, use_container_width=True)\n"
   ]
  },
  {
   "cell_type": "code",
   "execution_count": null,
   "metadata": {},
   "outputs": [],
   "source": [
    "!streamlit run fapp.py"
   ]
  },
  {
   "cell_type": "code",
   "execution_count": null,
   "metadata": {},
   "outputs": [],
   "source": []
  }
 ],
 "metadata": {
  "kernelspec": {
   "display_name": "Python 3",
   "language": "python",
   "name": "python3"
  },
  "language_info": {
   "codemirror_mode": {
    "name": "ipython",
    "version": 3
   },
   "file_extension": ".py",
   "mimetype": "text/x-python",
   "name": "python",
   "nbconvert_exporter": "python",
   "pygments_lexer": "ipython3",
   "version": "3.7.6"
  }
 },
 "nbformat": 4,
 "nbformat_minor": 4
}
